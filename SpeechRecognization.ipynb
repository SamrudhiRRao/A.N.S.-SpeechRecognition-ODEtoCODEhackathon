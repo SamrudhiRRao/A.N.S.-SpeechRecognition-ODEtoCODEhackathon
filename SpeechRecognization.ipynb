{
 "cells": [
  {
   "cell_type": "code",
   "execution_count": 1,
   "metadata": {},
   "outputs": [],
   "source": [
    "import speech_recognition as sr"
   ]
  },
  {
   "cell_type": "code",
   "execution_count": 2,
   "metadata": {},
   "outputs": [],
   "source": [
    "import pyttsx3 "
   ]
  },
  {
   "cell_type": "code",
   "execution_count": null,
   "metadata": {},
   "outputs": [
    {
     "name": "stdout",
     "output_type": "stream",
     "text": [
      "Did you say check for\n",
      "[]\n",
      "[[]]\n",
      "Did you say cancer\n",
      "[]\n",
      "[[], []]\n"
     ]
    }
   ],
   "source": [
    "# Initialize the recognizer \n",
    "r = sr.Recognizer() \n",
    "\n",
    "vocab = [\"heart disease\", \"cancer\", \"migraine\", \"asthma\", \"diabetes\",\"lung cancer\",\"brain cancer\", \"heat stroke\"]\n",
    "vocab = set(vocab)\n",
    "ans1 = []\n",
    "  \n",
    "# Function to convert text to\n",
    "# speech\n",
    "# def SpeakText(command):\n",
    "      \n",
    "#     # Initialize the engine\n",
    "#     engine = pyttsx3.init()\n",
    "#     engine.say(command) \n",
    "#     engine.runAndWait()\n",
    "      \n",
    "      \n",
    "# Loop infinitely for user to\n",
    "# speak\n",
    "  \n",
    "while(1):    \n",
    "      \n",
    "    # Exception handling to handle\n",
    "    # exceptions at the runtime\n",
    "    try:\n",
    "          \n",
    "        # use the microphone as source for input.\n",
    "        with sr.Microphone() as source2:\n",
    "              \n",
    "            # wait for a second to let the recognizer\n",
    "            # adjust the energy threshold based on\n",
    "            # the surrounding noise level \n",
    "            r.adjust_for_ambient_noise(source2, duration=0.2)\n",
    "              \n",
    "            #listens for the user's input \n",
    "            audio2 = r.listen(source2)\n",
    "              \n",
    "            # Using ggogle to recognize audio\n",
    "            MyText = r.recognize_google(audio2)\n",
    "            MyText = MyText.lower()\n",
    "  \n",
    "            print(\"Did you say \"+MyText)\n",
    "#             MyText=MyText.split(\" \")\n",
    "            ans = [x for x in MyText if x in vocab]\n",
    "            print(ans)\n",
    "            ans1.append(ans)\n",
    "#             SpeakText(MyText)\n",
    "              \n",
    "    except sr.RequestError as e:\n",
    "        print(\"Could not request results; {0}\".format(e))\n",
    "          \n",
    "    except sr.UnknownValueError:\n",
    "        print(\"Please Repeat...\")\n",
    "    print(ans1)"
   ]
  },
  {
   "cell_type": "code",
   "execution_count": 4,
   "metadata": {},
   "outputs": [],
   "source": []
  },
  {
   "cell_type": "code",
   "execution_count": 5,
   "metadata": {},
   "outputs": [],
   "source": [
    "# MyText = \"i have migraine\"\n"
   ]
  },
  {
   "cell_type": "code",
   "execution_count": 6,
   "metadata": {},
   "outputs": [],
   "source": [
    "MyText = set(MyText)"
   ]
  },
  {
   "cell_type": "code",
   "execution_count": 7,
   "metadata": {},
   "outputs": [],
   "source": []
  },
  {
   "cell_type": "code",
   "execution_count": 8,
   "metadata": {},
   "outputs": [
    {
     "data": {
      "text/plain": [
       "['cancer']"
      ]
     },
     "execution_count": 8,
     "metadata": {},
     "output_type": "execute_result"
    }
   ],
   "source": []
  },
  {
   "cell_type": "code",
   "execution_count": null,
   "metadata": {},
   "outputs": [],
   "source": []
  }
 ],
 "metadata": {
  "kernelspec": {
   "display_name": "Python 3",
   "language": "python",
   "name": "python3"
  },
  "language_info": {
   "codemirror_mode": {
    "name": "ipython",
    "version": 3
   },
   "file_extension": ".py",
   "mimetype": "text/x-python",
   "name": "python",
   "nbconvert_exporter": "python",
   "pygments_lexer": "ipython3",
   "version": "3.6.8"
  }
 },
 "nbformat": 4,
 "nbformat_minor": 2
}
